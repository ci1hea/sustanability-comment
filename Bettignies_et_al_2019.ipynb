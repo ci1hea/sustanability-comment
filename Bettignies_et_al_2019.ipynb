{
 "cells": [
  {
   "cell_type": "markdown",
   "metadata": {
    "toc": true
   },
   "source": [
    "<h1>Table of Contents<span class=\"tocSkip\"></span></h1>\n",
    "<div class=\"toc\"><ul class=\"toc-item\"></ul></div>"
   ]
  },
  {
   "cell_type": "code",
   "execution_count": 1,
   "metadata": {
    "ExecuteTime": {
     "end_time": "2019-08-26T21:03:13.944256Z",
     "start_time": "2019-08-26T21:03:09.678326Z"
    }
   },
   "outputs": [],
   "source": [
    "from __future__ import print_function\n",
    "from IPython.display import display, HTML\n",
    "\n",
    "import numpy as np\n",
    "import scipy as sp\n",
    "import pandas as pd\n",
    "from scipy import stats\n",
    "from random import random\n",
    "\n",
    "from matplotlib import pyplot as plt\n",
    "import matplotlib.ticker as tk\n",
    "import matplotlib.gridspec as gridspec\n",
    "import seaborn as sns\n",
    "\n",
    "plt.style.use(['seaborn-white', 'seaborn-paper'])\n",
    "sns.set_context(\"paper\")\n",
    "sns.set_style({\"xtick.direction\": \"in\",\"ytick.direction\": \"in\"})"
   ]
  },
  {
   "cell_type": "code",
   "execution_count": 2,
   "metadata": {
    "ExecuteTime": {
     "end_time": "2019-08-26T21:03:13.952217Z",
     "start_time": "2019-08-26T21:03:13.946215Z"
    }
   },
   "outputs": [],
   "source": [
    "def random_powerlaw(x_min, alpha): #https://arxiv.org/pdf/0706.1062.pdf\n",
    "    r = random()\n",
    "    return x_min * (1 - r) ** (-1 / (alpha - 1))\n",
    "def mm2inch(*tupl):\n",
    "    inch = 2.54\n",
    "    if isinstance(tupl[0], tuple):\n",
    "        return tuple((i/10)/inch for i in tupl[0])\n",
    "    else:\n",
    "        return tuple((i/10)/inch for i in tupl)"
   ]
  },
  {
   "cell_type": "code",
   "execution_count": 3,
   "metadata": {
    "ExecuteTime": {
     "end_time": "2019-08-26T21:03:15.500432Z",
     "start_time": "2019-08-26T21:03:13.955192Z"
    }
   },
   "outputs": [
    {
     "data": {
      "image/png": "[encoded data removed]",
      "text/plain": [
       "<Figure size 566.929x198.425 with 3 Axes>"
      ]
     },
     "metadata": {
      "needs_background": "light"
     },
     "output_type": "display_data"
    }
   ],
   "source": [
    "F_exp=5/6\n",
    "\n",
    "urb_net_1_N=np.zeros(30)\n",
    "urb_net_1_F=np.zeros(30)\n",
    "urb_net_1_F0=110\n",
    "for i in range(0, 30):\n",
    "    urb_net_1_N[i]=random_powerlaw(x_min=10000, alpha=2)\n",
    "    urb_net_1_F[i]=(urb_net_1_F0*(urb_net_1_N[i]**(F_exp+(np.random.randn()/30))))+(np.random.randn()*10)\n",
    "    \n",
    "urb_net_2_N=np.zeros(30)\n",
    "urb_net_2_F=np.zeros(30)\n",
    "urb_net_2_F0=768\n",
    "for i in range(0, 30):\n",
    "    urb_net_2_N[i]=random_powerlaw(x_min=10000, alpha=2.5)\n",
    "    urb_net_2_F[i]=urb_net_2_F0*(urb_net_2_N[i]**(F_exp+(np.random.randn()/30)))+(np.random.randn()*10)\n",
    "    \n",
    "urb_net_3_N=np.zeros(30)\n",
    "urb_net_3_F=np.zeros(30)\n",
    "urb_net_3_F0=50\n",
    "for i in range(0, 30):\n",
    "    urb_net_3_N[i]=random_powerlaw(x_min=250000, alpha=3)\n",
    "    urb_net_3_F[i]=urb_net_3_F0*(urb_net_3_N[i]**(F_exp+(np.random.randn()/30)))+(np.random.randn()*10)\n",
    "    \n",
    "urb_net_4_N=np.zeros(30)\n",
    "urb_net_4_F=np.zeros(30)\n",
    "urb_net_4_F0=10\n",
    "for i in range(0, 30):\n",
    "    urb_net_4_N[i]=random_powerlaw(x_min=250000, alpha=3)\n",
    "    urb_net_4_F[i]=urb_net_4_F0*(urb_net_4_N[i]**(F_exp+(np.random.randn()/30)))+(np.random.randn()*10)\n",
    "    \n",
    "urb_net_N=np.append(urb_net_1_N, [urb_net_2_N, urb_net_3_N, urb_net_4_N])\n",
    "urb_net_F=np.append(urb_net_1_F, [urb_net_2_F, urb_net_3_F, urb_net_4_F])\n",
    "dx=d=np.floor(np.max(np.log10(urb_net_N)))-np.floor(np.min(np.log10(urb_net_N)))\n",
    "dy=np.max(np.log10(urb_net_F))-np.min(np.log10(urb_net_F))\n",
    "\n",
    "fig, (ax1, ax2, ax3) = plt.subplots(1, 3, figsize=mm2inch(200, 70))\n",
    "ax1=sns.regplot(x=np.log10(urb_net_1_N), y=np.log10(urb_net_1_F), truncate=True, ax=ax1, scatter_kws={'s':3}, color='orange', line_kws={'lw':1.5})\n",
    "ax1=sns.regplot(x=np.log10(urb_net_2_N), y=np.log10(urb_net_2_F), truncate=True, ax=ax1, scatter_kws={'s':3}, color='blue', line_kws={'lw':1.5})\n",
    "ax1=sns.regplot(x=np.log10(urb_net_3_N), y=np.log10(urb_net_3_F), truncate=True, ax=ax1, scatter_kws={'s':3}, color='red', line_kws={'lw':1.5})\n",
    "ax1=sns.regplot(x=np.log10(urb_net_4_N), y=np.log10(urb_net_4_F), truncate=True, ax=ax1, scatter_kws={'s':3}, color='green', line_kws={'lw':1.5})\n",
    "ax1.set_aspect('equal')\n",
    "ax1.set_xlim([np.floor(np.min(np.log10(urb_net_N)))-0.5,np.floor(np.max(np.log10(urb_net_N)))+0.5])\n",
    "ax1.set_ylim([(np.min(np.log10(urb_net_F)))-0.1,(np.max(np.log10(urb_net_F)))+0.1])\n",
    "ax1.set_xlabel(r'$\\sf{{\\log_{10}}{N}}$')\n",
    "ax1.set_ylabel(r'$\\sf{{\\log_{10}}{Y}}$')\n",
    "\n",
    "ax2=sns.regplot(x=np.log10(urb_net_N), y=np.log10(urb_net_F), color='k', truncate=True, ax=ax2, scatter_kws={'s':3}, line_kws={'lw':1.5})\n",
    "ax2=sns.regplot(x=np.log10(urb_net_1_N), y=np.log10(urb_net_1_F), fit_reg=False, ax=ax2, scatter_kws={'s':3}, color='orange')\n",
    "ax2=sns.regplot(x=np.log10(urb_net_2_N), y=np.log10(urb_net_2_F), fit_reg=False, ax=ax2, scatter_kws={'s':3}, color='blue')\n",
    "ax2=sns.regplot(x=np.log10(urb_net_3_N), y=np.log10(urb_net_3_F), fit_reg=False, ax=ax2, scatter_kws={'s':3}, color='red')\n",
    "ax2=sns.regplot(x=np.log10(urb_net_4_N), y=np.log10(urb_net_4_F), fit_reg=False, ax=ax2, scatter_kws={'s':3}, color='green')\n",
    "ax2.set_aspect('equal')\n",
    "ax2.set_xlim([np.floor(np.min(np.log10(urb_net_N)))-0.5,np.floor(np.max(np.log10(urb_net_N)))+0.5])\n",
    "ax2.set_ylim([(np.min(np.log10(urb_net_F)))-0.1,(np.max(np.log10(urb_net_F)))+0.1])\n",
    "ax2.set_xlabel(r'$\\sf{{\\log_{10}}{N}}$')\n",
    "ax2.set_ylabel(r'$\\sf{{\\log_{10}}{Y}}$')\n",
    "\n",
    "urb_net_comp_N=np.append(urb_net_1_N/np.mean(urb_net_1_N), \n",
    "                         [urb_net_2_N/np.mean(urb_net_2_N),\n",
    "                          urb_net_3_N/np.mean(urb_net_3_N),\n",
    "                          urb_net_4_N/np.mean(urb_net_4_N)])\n",
    "urb_net_comp_F=np.append(urb_net_1_F/np.mean(urb_net_1_F), \n",
    "                         [urb_net_2_F/np.mean(urb_net_2_F), \n",
    "                          urb_net_3_F/np.mean(urb_net_3_F),\n",
    "                          urb_net_4_F/np.mean(urb_net_4_F)])\n",
    "ax3=sns.regplot(x=np.log10(urb_net_comp_N), y=np.log10(urb_net_comp_F), color='k', ax=ax3, scatter_kws={'s':3}, line_kws={'lw':1.5})\n",
    "ax3=sns.regplot(x=np.log10(urb_net_1_N/np.mean(urb_net_1_N)), y=np.log10(urb_net_1_F/np.mean(urb_net_1_F)), color='orange', fit_reg=False, ax=ax3, scatter_kws={'s':3})\n",
    "ax3=sns.regplot(x=np.log10(urb_net_2_N/np.mean(urb_net_2_N)), y=np.log10(urb_net_2_F/np.mean(urb_net_2_F)), color='blue', fit_reg=False, ax=ax3, scatter_kws={'s':3})\n",
    "ax3=sns.regplot(x=np.log10(urb_net_3_N/np.mean(urb_net_3_N)), y=np.log10(urb_net_3_F/np.mean(urb_net_3_F)), color='red', fit_reg=False, ax=ax3, scatter_kws={'s':3})\n",
    "ax3=sns.regplot(x=np.log10(urb_net_4_N/np.mean(urb_net_4_N)), y=np.log10(urb_net_4_F/np.mean(urb_net_4_F)), color='green', fit_reg=False, ax=ax3, scatter_kws={'s':3})\n",
    "\n",
    "ax3.set_aspect('equal')\n",
    "ax3.set_xlabel(r'$\\sf{{\\log_{10}}{\\frac{N}{\\langle N \\rangle}}}$')\n",
    "ax3.set_ylabel(r'$\\sf{{\\log_{10}}{\\frac{Y}{\\langle Y \\rangle}}}$')\n",
    "ax3.set_xlim([-1.5,1.5])\n",
    "ax3.set_ylim([-dy/2-.1,dy/2+.1])\n",
    "\n",
    "ax1.set_title(r'$\\bf{A}$', loc='left', y=1.0)\n",
    "ax2.set_title(r'$\\bf{B}$', loc='left', y=1.0)\n",
    "ax3.set_title(r'$\\bf{C}$', loc='left', y=1.0)\n",
    "\n",
    "plt.tight_layout()\n",
    "plt.savefig('Data\\F1.pdf')"
   ]
  },
  {
   "cell_type": "code",
   "execution_count": 7,
   "metadata": {
    "ExecuteTime": {
     "end_time": "2019-08-26T21:05:24.036379Z",
     "start_time": "2019-08-26T21:05:22.878063Z"
    }
   },
   "outputs": [
    {
     "data": {
      "image/png": "[encoded data removed]",
      "text/plain": [
       "<Figure size 350.389x198.425 with 4 Axes>"
      ]
     },
     "metadata": {
      "needs_background": "light"
     },
     "output_type": "display_data"
    }
   ],
   "source": [
    "lon_boro_net=pd.read_csv('Data/LONDONEW.csv', sep=';', header='infer')\n",
    "\n",
    "fig = plt.figure(figsize=mm2inch(200/1.618, 70))\n",
    "gs = gridspec.GridSpec(2, 2, height_ratios=[3,1], width_ratios=[1,1])\n",
    "ax1 = fig.add_subplot(gs[0])\n",
    "ax2 = fig.add_subplot(gs[1])\n",
    "ax3 = fig.add_subplot(gs[2])\n",
    "ax4 = fig.add_subplot(gs[3])\n",
    "\n",
    "sns.distplot(lon_boro_net.r, ax=ax1, hist_kws=None, rug=True, color='b')\n",
    "sns.distplot(np.log10(lon_boro_net.r), ax=ax2, color='red', rug=True)\n",
    "\n",
    "ax3.axvline(np.mean((lon_boro_net.r)), color='b')\n",
    "ax4.axvline((np.mean(np.log10(lon_boro_net.r))), color='red')\n",
    "ax3.axvline(10**(np.mean(np.log10(lon_boro_net.r))), color='red')\n",
    "ax4.axvline(np.log10(np.mean((lon_boro_net.r))), color='b')\n",
    "\n",
    "sns.swarmplot(lon_boro_net.r, ax=ax3, color='b', size=3)\n",
    "sns.swarmplot(np.log10(lon_boro_net.r), ax=ax4, color='r', size=3)\n",
    "\n",
    "xfmt = tk.ScalarFormatter()\n",
    "xfmt.set_powerlimits((-3,3))\n",
    "\n",
    "ax1.set_xscale('log')\n",
    "ax1.set_xlim([700,30000])\n",
    "ax3.set_xscale('log')\n",
    "ax3.set_xlim([700,30000])\n",
    "\n",
    "ax2.set_xlim(np.log10([700,30000]))\n",
    "ax4.set_xlim(np.log10([700,30000]))\n",
    "\n",
    "ax1.set_ylabel(r'$f(\\rho)$')\n",
    "ax1.set_xlabel(r'')\n",
    "ax1.set_xticklabels([])\n",
    "ax3.set_xlabel(r'$\\rho$')\n",
    "\n",
    "ax1.yaxis.set_major_formatter(xfmt)\n",
    "ax2.set_ylabel(r'$f({\\log_{10}}\\rho)$')\n",
    "ax2.set_xlabel(r'')\n",
    "ax2.set_xticklabels([])\n",
    "ax4.set_xlabel(r'${\\log_{10}}\\rho$')\n",
    "\n",
    "ax1.set_title(r'$\\bf{A}$', loc='left', y=1.08)\n",
    "ax2.set_title(r'$\\bf{B}$', loc='left', y=1.08)\n",
    "\n",
    "nm=np.mean((lon_boro_net.r))\n",
    "lnnm=10**(np.mean(np.log10(lon_boro_net.r)))\n",
    "\n",
    "ax3.annotate(str(np.round((nm-lnnm)/nm,2))+r'$\\langle\\rho\\rangle$', \n",
    "             (1.3*np.mean((lon_boro_net.r)), 0.35), **{'fontsize':'small'})\n",
    "ax3.annotate(\"\",\n",
    "            xy=(10**(np.mean(np.log10(lon_boro_net.r))), 0.3), xycoords='data',\n",
    "            xytext=(0.8*10**(np.mean(np.log10(lon_boro_net.r))), 0.3), textcoords='data',\n",
    "            arrowprops=dict(arrowstyle=\"->\",\n",
    "                            connectionstyle=\"arc3\"), **{'fontsize':'small'}\n",
    "            )\n",
    "\n",
    "ax3.annotate('',\n",
    "            xy=((np.mean((lon_boro_net.r))), 0.3), xycoords='data', \n",
    "            xytext=(1.3*np.mean((lon_boro_net.r)), 0.3), textcoords='data',\n",
    "            arrowprops=dict(arrowstyle=\"->\",\n",
    "                            connectionstyle=\"arc3\"), **{'fontsize':'small'}\n",
    "        )\n",
    "\n",
    "fig.tight_layout()\n",
    "plt.savefig('Data\\F2.pdf')"
   ]
  },
  {
   "cell_type": "code",
   "execution_count": null,
   "metadata": {},
   "outputs": [],
   "source": []
  }
 ],
 "metadata": {
  "kernelspec": {
   "display_name": "Python 3",
   "language": "python",
   "name": "python3"
  },
  "language_info": {
   "codemirror_mode": {
    "name": "ipython",
    "version": 3
   },
   "file_extension": ".py",
   "mimetype": "text/x-python",
   "name": "python",
   "nbconvert_exporter": "python",
   "pygments_lexer": "ipython3",
   "version": "3.7.1"
  },
  "latex_envs": {
   "LaTeX_envs_menu_present": true,
   "autoclose": false,
   "autocomplete": true,
   "bibliofile": "biblio.bib",
   "cite_by": "apalike",
   "current_citInitial": 1,
   "eqLabelWithNumbers": true,
   "eqNumInitial": 1,
   "hotkeys": {
    "equation": "Ctrl-E",
    "itemize": "Ctrl-I"
   },
   "labels_anchors": false,
   "latex_user_defs": false,
   "report_style_numbering": false,
   "user_envs_cfg": false
  },
  "toc": {
   "base_numbering": 1,
   "nav_menu": {},
   "number_sections": true,
   "sideBar": true,
   "skip_h1_title": false,
   "title_cell": "Table of Contents",
   "title_sidebar": "Contents",
   "toc_cell": true,
   "toc_position": {
    "height": "calc(100% - 180px)",
    "left": "10px",
    "top": "150px",
    "width": "232px"
   },
   "toc_section_display": true,
   "toc_window_display": true
  }
 },
 "nbformat": 4,
 "nbformat_minor": 2
}
